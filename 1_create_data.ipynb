{
 "cells": [
  {
   "cell_type": "markdown",
   "id": "2c196a4a-793f-4d20-be2a-0a547c17366b",
   "metadata": {},
   "source": [
    "# Fintect Project\n",
    "- https://www.sganalytics.com/case-study/we-built-a-win-back-model-for-our-fintech-client-to-target-high-propensity-customers-for-a-higher-conversion-rate/"
   ]
  },
  {
   "cell_type": "markdown",
   "id": "abf36061-7168-4fda-bff0-5f192132bc1a",
   "metadata": {},
   "source": [
    "# Generate Data"
   ]
  },
  {
   "cell_type": "code",
   "execution_count": 4,
   "id": "ca009894-9769-4d32-8783-e8a501b1cd87",
   "metadata": {},
   "outputs": [],
   "source": [
    "import numpy as np\n",
    "import pandas as pd\n",
    "import random\n",
    "from faker import Faker\n",
    "from datetime import datetime, timedelta\n",
    "\n",
    "fake = Faker()\n",
    "\n",
    "# Seed for reproducibility\n",
    "np.random.seed(42)\n",
    "\n",
    "# Number of rows to generate\n",
    "num_rows = 10000\n",
    "\n",
    "# Function to generate dates within a range\n",
    "def random_date(start, end):\n",
    "    return start + timedelta(days=random.randint(0, (end - start).days))\n",
    "\n",
    "# Generate columns\n",
    "data = {\n",
    "    'customer_id': [fake.uuid4() for _ in range(num_rows)],\n",
    "    'unsub_date': [random_date(datetime(2023, 1, 1), datetime(2024, 1, 1)) for _ in range(num_rows)],\n",
    "    're_engagement_date': [\n",
    "        random_date(datetime(2023, 1, 1), datetime(2024, 1, 31)) if random.random() > 0.1 else None \n",
    "        for _ in range(num_rows)],  # 10% missing values\n",
    "    'user_tenure': np.random.exponential(scale=365, size=num_rows).astype(int),  # Exponential, right-skewed\n",
    "    'num_logins_last_30_days': np.clip(np.random.normal(loc=15, scale=5, size=num_rows), 1, 30).astype(int),  # Normal\n",
    "    'num_transactions_last_30_days': np.random.poisson(3, size=num_rows),  # Poisson for right skew\n",
    "    'customer_segment': np.random.choice(['High-Value', 'Medium-Value', 'Low-Value'], p=[0.2, 0.5, 0.3], size=num_rows),\n",
    "    'campaign_type': np.random.choice(['Email', 'Push Notification', 'SMS'], p=[0.5, 0.3, 0.2], size=num_rows),\n",
    "    'discount_offered': np.round(np.random.uniform(5, 30, size=num_rows), 2),  # Uniform\n",
    "    'prev_winback_success': np.random.choice([0, 1], p=[0.9, 0.1], size=num_rows),  # 10% success\n",
    "    'app_usage_time': np.clip(np.random.normal(loc=300, scale=100, size=num_rows), 50, 600).astype(int),  # Normal distribution\n",
    "}\n",
    "\n",
    "# Create a win-back propensity score (simulate as a random value, you can adjust for specific modeling)\n",
    "data['winback_propensity_score'] = np.round(np.random.uniform(0, 1, size=num_rows), 3)\n",
    "\n",
    "# Create the target column (win-back success) based on the propensity score (with a 23% success rate)\n",
    "data['winback_success'] = (data['winback_propensity_score'] > 0.77).astype(int)\n",
    "\n",
    "# Insert some missing values in 'discount_offered' (e.g., 5% missing)\n",
    "mask = np.random.rand(num_rows) < 0.05\n",
    "data['discount_offered'][mask] = np.nan\n",
    "\n",
    "# Convert to DataFrame\n",
    "df = pd.DataFrame(data)\n",
    "\n",
    "df.to_csv('win_back.csv', index = False)"
   ]
  },
  {
   "cell_type": "code",
   "execution_count": null,
   "id": "9e7b4ed6-02e0-44a9-a7ab-e0c77398cbe6",
   "metadata": {},
   "outputs": [],
   "source": []
  }
 ],
 "metadata": {
  "kernelspec": {
   "display_name": "Python 3 (ipykernel)",
   "language": "python",
   "name": "python3"
  },
  "language_info": {
   "codemirror_mode": {
    "name": "ipython",
    "version": 3
   },
   "file_extension": ".py",
   "mimetype": "text/x-python",
   "name": "python",
   "nbconvert_exporter": "python",
   "pygments_lexer": "ipython3",
   "version": "3.10.13"
  }
 },
 "nbformat": 4,
 "nbformat_minor": 5
}
